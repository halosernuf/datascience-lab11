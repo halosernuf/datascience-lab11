{
 "cells": [
  {
   "cell_type": "code",
   "execution_count": 2,
   "metadata": {
    "collapsed": true
   },
   "outputs": [],
   "source": [
    "import pandas as pd\n",
    "import numpy as np\n",
    "import matplotlib.pyplot as plt\n",
    "from sklearn.linear_model import LinearRegression\n",
    "from sklearn.preprocessing import PolynomialFeatures\n",
    "from multiprocessing import Process\n",
    "%matplotlib inline"
   ]
  },
  {
   "cell_type": "code",
   "execution_count": 3,
   "metadata": {
    "collapsed": true
   },
   "outputs": [],
   "source": [
    "event_train=pd.DataFrame.from_csv(\"events_train.tsv\",sep=\"\\t\",header=0)\n",
    "event_train_s=event_train[[\"closed_tstamp\",\"event_type\",\"latitude\",\"longitude\"]]\n",
    "prediction_trials=pd.DataFrame.from_csv(\"prediction_trials.tsv\",sep=\"\\t\",header=0)\n",
    "prediction_trials['start_dt']=pd.to_datetime(prediction_trials.apply(lambda x:x['start'][:-6],axis=1),format='%Y-%m-%dT%H:%M:%S',errors='coerce' )\n",
    "prediction_trials['end_dt']=pd.to_datetime(prediction_trials.apply(lambda x:x['end'][:-6],axis=1),format='%Y-%m-%dT%H:%M:%S',errors='coerce' )\n",
    "event_train_s=event_train_s[~event_train_s['closed_tstamp'].isnull()]\n",
    "event_train_s['dt']=pd.to_datetime(event_train_s.apply(lambda x:x['closed_tstamp'][:-6],axis=1),format='%Y-%m-%dT%H:%M:%S',errors='coerce' )\n",
    "event_train_s=event_train_s[event_train_s.dt<'2013-01-01']"
   ]
  },
  {
   "cell_type": "code",
   "execution_count": 4,
   "metadata": {
    "collapsed": true
   },
   "outputs": [],
   "source": [
    "A_event=event_train_s[(event_train_s['event_type']=='accidentsAndIncidents')]\n",
    "R_event=event_train_s[(event_train_s['event_type']=='roadwork')]\n",
    "P_event=event_train_s[(event_train_s['event_type']=='precipitation')]\n",
    "D_event=event_train_s[(event_train_s['event_type']=='deviceStatus')]\n",
    "O_event=event_train_s[(event_train_s['event_type']=='obstruction')]\n",
    "T_event=event_train_s[(event_train_s['event_type']=='trafficConditions')]"
   ]
  },
  {
   "cell_type": "code",
   "execution_count": 5,
   "metadata": {
    "collapsed": false
   },
   "outputs": [],
   "source": [
    "def pred_score(event,start,end):\n",
    "    size=end-start\n",
    "    regressor_quadratic_score=np.array([0.0]*size)\n",
    "    regressor_quadratic_pred=np.array([0.0]*size)\n",
    "    model_score=np.array([0.0]*size)\n",
    "    model_pred=np.array([0.0]*size)\n",
    "    for i in range(size):\n",
    "        test=prediction_trials.iloc[i+start]\n",
    "        test_cnt=event[(event.latitude<=test.nw_lat) & (event.latitude>=test.se_lat) & (event.longitude>=test.se_lon) & (event.longitude>=test.nw_lon)]\n",
    "        if(len(test_cnt)==0):\n",
    "            model_pred[i]=0\n",
    "            model_score[i]=0\n",
    "            regressor_quadratic_score[i]=0\n",
    "            regressor_quadratic_pred[i]=0\n",
    "        else:\n",
    "            t=test_cnt.groupby(test_cnt.dt.dt.year).size()\n",
    "            X=np.array(t.index.astype(int)).reshape(len(t), 1)\n",
    "            y=np.array(t.values)\n",
    "            model = LinearRegression()\n",
    "            model.fit(X,y)\n",
    "            model_pred[i]=model.predict(2014)\n",
    "            model_score[i]=model.score(X,y)\n",
    "            quadratic_featurizer = PolynomialFeatures(degree=2)\n",
    "            X_train_quadratic=quadratic_featurizer.fit_transform(X)\n",
    "            model.fit(X_train_quadratic, y)\n",
    "            regressor_quadratic_score[i]=model.score(X_train_quadratic,y)\n",
    "            regressor_quadratic_pred[i]=model.predict(quadratic_featurizer.transform(np.array([2014]).reshape(-1, 1)))\n",
    "    np.savetxt(\"quadratic_score_\"+str(start)+'_'+str(end)+'.txt',regressor_quadratic_score,fmt='%.10f')\n",
    "    np.savetxt(\"model_score_\"+str(start)+'_'+str(end)+'.txt',model_score,fmt='%.10f')\n",
    "    np.savetxt(\"quadratic_pred_\"+str(start)+'_'+str(end)+'.txt',regressor_quadratic_pred,fmt='%.10f')\n",
    "    np.savetxt(\"model_pred_\"+str(start)+'_'+str(end)+'.txt',model_pred,fmt='%.10f')"
   ]
  },
  {
   "cell_type": "code",
   "execution_count": 11,
   "metadata": {
    "collapsed": false
   },
   "outputs": [],
   "source": [
    "divide=3\n",
    "start=range(0,len(prediction_trials),len(prediction_trials)/divide)\n",
    "end=start[1:]\n",
    "end.append(len(prediction_trials))"
   ]
  },
  {
   "cell_type": "code",
   "execution_count": 22,
   "metadata": {
    "collapsed": false
   },
   "outputs": [],
   "source": [
    "quadratic_score=np.array([])\n",
    "for i in range(divide):\n",
    "    quadratic_score=np.append(quadratic_score,np.loadtxt(\"quadratic_score_\"+str(start[i])+'_'+str(end[i])+'.txt'))"
   ]
  },
  {
   "cell_type": "code",
   "execution_count": 23,
   "metadata": {
    "collapsed": false
   },
   "outputs": [],
   "source": [
    "model_score=np.array([])\n",
    "for i in range(divide):\n",
    "    model_score=np.append(model_score,np.loadtxt(\"model_score_\"+str(start[i])+'_'+str(end[i])+'.txt'))"
   ]
  },
  {
   "cell_type": "code",
   "execution_count": 24,
   "metadata": {
    "collapsed": true
   },
   "outputs": [],
   "source": [
    "quadratic_pred=np.array([])\n",
    "for i in range(divide):\n",
    "    quadratic_pred=np.append(quadratic_pred,np.loadtxt(\"quadratic_pred_\"+str(start[i])+'_'+str(end[i])+'.txt'))"
   ]
  },
  {
   "cell_type": "code",
   "execution_count": 25,
   "metadata": {
    "collapsed": true
   },
   "outputs": [],
   "source": [
    "model_pred=np.array([])\n",
    "for i in range(divide):\n",
    "    model_pred=np.append(model_pred,np.loadtxt(\"model_pred_\"+str(start[i])+'_'+str(end[i])+'.txt'))"
   ]
  },
  {
   "cell_type": "code",
   "execution_count": 38,
   "metadata": {
    "collapsed": false
   },
   "outputs": [],
   "source": [
    "np.savetxt(\"A_event/model_pred.txt\",model_pred,fmt='%.10f')"
   ]
  },
  {
   "cell_type": "code",
   "execution_count": 34,
   "metadata": {
    "collapsed": false
   },
   "outputs": [],
   "source": [
    "import os\n",
    "os.mkdir('A_event')"
   ]
  },
  {
   "cell_type": "code",
   "execution_count": 30,
   "metadata": {
    "collapsed": false
   },
   "outputs": [
    {
     "data": {
      "text/plain": [
       "2405"
      ]
     },
     "execution_count": 30,
     "metadata": {},
     "output_type": "execute_result"
    }
   ],
   "source": [
    "len(P_event)"
   ]
  }
 ],
 "metadata": {
  "kernelspec": {
   "display_name": "Python 2",
   "language": "python",
   "name": "python2"
  },
  "language_info": {
   "codemirror_mode": {
    "name": "ipython",
    "version": 2
   },
   "file_extension": ".py",
   "mimetype": "text/x-python",
   "name": "python",
   "nbconvert_exporter": "python",
   "pygments_lexer": "ipython2",
   "version": "2.7.10"
  }
 },
 "nbformat": 4,
 "nbformat_minor": 1
}
